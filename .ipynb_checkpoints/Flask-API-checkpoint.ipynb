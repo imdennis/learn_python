{
 "cells": [
  {
   "cell_type": "code",
   "execution_count": 1,
   "metadata": {},
   "outputs": [
    {
     "name": "stdout",
     "output_type": "stream",
     "text": [
      "Requirement already satisfied: flask in /Users/Dennis/anaconda/lib/python3.5/site-packages\r\n",
      "Requirement already satisfied: Werkzeug>=0.7 in /Users/Dennis/anaconda/lib/python3.5/site-packages (from flask)\r\n",
      "Requirement already satisfied: Jinja2>=2.4 in /Users/Dennis/anaconda/lib/python3.5/site-packages (from flask)\r\n",
      "Requirement already satisfied: itsdangerous>=0.21 in /Users/Dennis/anaconda/lib/python3.5/site-packages (from flask)\r\n",
      "Requirement already satisfied: click>=2.0 in /Users/Dennis/anaconda/lib/python3.5/site-packages (from flask)\r\n",
      "Requirement already satisfied: MarkupSafe>=0.23 in /Users/Dennis/anaconda/lib/python3.5/site-packages (from Jinja2>=2.4->flask)\r\n"
     ]
    }
   ],
   "source": [
    "!pip install --user flask"
   ]
  },
  {
   "cell_type": "code",
   "execution_count": 2,
   "metadata": {
    "collapsed": true
   },
   "outputs": [],
   "source": [
    "from flask import Flask, request, make_response, jsonify\n",
    "from ptt_crawler import PttCrawler\n",
    "\n",
    "app = Flask('flask-api')\n",
    "@app.route('/test')\n",
    "def hello_world():\n",
    "    message = {'message':'hello world'}\n",
    "    return jsonify(message)\n",
    "\n",
    "@app.route('/ptt_crawler', methods=['GET','POST'])\n",
    "def run_crawler():\n",
    "    crawler = PttCrawler('Gossiping', page=1)\n",
    "    return jsonify(result)"
   ]
  },
  {
   "cell_type": "code",
   "execution_count": 10,
   "metadata": {},
   "outputs": [
    {
     "name": "stdout",
     "output_type": "stream",
     "text": [
      "b'{\\n  \"message\": \"hello world\"\\n}\\n'\n",
      "{'message': 'hello world'}\n"
     ]
    }
   ],
   "source": [
    "import json\n",
    "resp = app.test_client().get('/test')\n",
    "print(resp.data)\n",
    "print(json.loads(resp.data.decode()))"
   ]
  },
  {
   "cell_type": "raw",
   "metadata": {},
   "source": []
  }
 ],
 "metadata": {
  "kernelspec": {
   "display_name": "Python 3",
   "language": "python",
   "name": "python3"
  },
  "language_info": {
   "codemirror_mode": {
    "name": "ipython",
    "version": 3
   },
   "file_extension": ".py",
   "mimetype": "text/x-python",
   "name": "python",
   "nbconvert_exporter": "python",
   "pygments_lexer": "ipython3",
   "version": "3.5.3"
  }
 },
 "nbformat": 4,
 "nbformat_minor": 2
}
