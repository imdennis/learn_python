{
 "cells": [
  {
   "cell_type": "code",
   "execution_count": 1,
   "metadata": {},
   "outputs": [
    {
     "name": "stdout",
     "output_type": "stream",
     "text": [
      "['/bbs/Gossiping/M.1513835008.A.12D.html', '/bbs/Gossiping/M.1513835015.A.CDF.html', '/bbs/Gossiping/M.1513835050.A.330.html', '/bbs/Gossiping/M.1513835072.A.A1F.html', '/bbs/Gossiping/M.1513835076.A.615.html', '/bbs/Gossiping/M.1513835110.A.944.html', '/bbs/Gossiping/M.1513835127.A.764.html', '/bbs/Gossiping/M.1513835177.A.F68.html', '/bbs/Gossiping/M.1513835191.A.8CC.html', '/bbs/Gossiping/M.1510415718.A.D77.html', '/bbs/Gossiping/M.1512882583.A.B4E.html', '/bbs/Gossiping/M.1513426094.A.927.html', '/bbs/Gossiping/M.1513683634.A.2F5.html', '/bbs/Gossiping/M.1512057611.A.16B.html']\n"
     ]
    }
   ],
   "source": [
    "import requests\n",
    "from bs4 import BeautifulSoup\n",
    "session = requests.Session()\n",
    "header = {'User-Agent': \"Mozilla/5.0 (Macintosh; Intel Mac OS X 10_12_4) AppleWebKit/603.1.30 (KHTML, like Gecko) Version/10.1 Safari/603.1.30\"}\n",
    "cookie = {'over18':'1'}\n",
    "html = session.get(\"https://www.ptt.cc/bbs/Gossiping/index.html\", headers=header, cookies=cookie).text\n",
    "bsobj = BeautifulSoup(html, \"lxml\")\n",
    "titles = bsobj.findAll(\"div\", {\"class\": \"title\"})\n",
    "linklist = []\n",
    "for title in titles:\n",
    "    try:\n",
    "        linklist.append(title.a.attrs[\"href\"])\n",
    "    except:\n",
    "        continue\n",
    "print(linklist)"
   ]
  },
  {
   "cell_type": "code",
   "execution_count": null,
   "metadata": {
    "collapsed": true
   },
   "outputs": [],
   "source": [
    "class PttCrawler:\n",
    "    \n",
    "    def __init__(self, board, page, write=False):\n",
    "        self.ptt_url = 'https://www.ptt.cc'\n",
    "        self.board = board\n",
    "        self.page = page\n",
    "        \n",
    "        self.session = requests.Session()\n",
    "        self.session.cookies.update({\n",
    "            'over18': 1\n",
    "        })\n",
    "        \n",
    "        self.write = write\n",
    "    \n",
    "    def run(self):\n",
    "        url = self.ptt_url + '/bbs' + self.board\n",
    "        post_link_list = self.fetchPostLinkList(url)\n",
    "        post_list = [self.fetchPostLinkList(post_link) for post_link in post_link_list]\n",
    "        if self.write:\n",
    "            result_dir = os.path.join('ptt_crawler/', str(uuid4()))\n",
    "            os.makedirs(result_dir, exist_ok=True)\n",
    "            \n",
    "            for post in post_list:\n",
    "                with open(os.path.join(result_dir, post['id']), 'w') as f:\n",
    "                    f.write(json.dumps(post, indent=4))\n",
    "        return post_list\n",
    "    \n",
    "    def post_list(bsobj):\n",
    "        titles = bsobj.findAll(\"div\", {\"class\": \"title\"})\n",
    "        linklist = []\n",
    "        for title in titles:\n",
    "            try:\n",
    "                linklist.append(title.a.attrs[\"href\"])\n",
    "            except:\n",
    "                continue\n",
    "        return linklist\n",
    "    \n",
    "    def pages(x, bsobj):\n",
    "        url = \"https://www.ptt.cc/bbs/Gossiping/index.html\"\n",
    "        result_linklist= []\n",
    "        for i in range(x):\n",
    "            html = session.get(url, headers=header, cookies={'over18':'1'}).text\n",
    "            bsobj = BeautifulSoup(html, \"lxml\")\n",
    "        \n",
    "            prev = bsobj.findAll(\"a\", {\"class\":\"btn wide\"})[1]\n",
    "            url = \"https://www.ptt.cc/\" + prev.attrs[\"href\"]\n",
    "            result_linklist.extend(post_list(bsobj))\n",
    "        return result_linklist \n",
    "    \n",
    "    def fetchPostLinkList(self, url):\n",
    "        if not url.startswith('http'):\n",
    "            url = self.ptt_url + url\n",
    "        resp = self.session.get(\n",
    "            url\n",
    "        )\n",
    "        \n",
    "        bsobj = BeautifulSoup(resp.text.encode(\"utf-8\"), \"lxml\")\n",
    "        return pages(self.page, bsobj)"
   ]
  }
 ],
 "metadata": {
  "kernelspec": {
   "display_name": "Python 3",
   "language": "python",
   "name": "python3"
  },
  "language_info": {
   "codemirror_mode": {
    "name": "ipython",
    "version": 3
   },
   "file_extension": ".py",
   "mimetype": "text/x-python",
   "name": "python",
   "nbconvert_exporter": "python",
   "pygments_lexer": "ipython3",
   "version": "3.5.2"
  }
 },
 "nbformat": 4,
 "nbformat_minor": 2
}
