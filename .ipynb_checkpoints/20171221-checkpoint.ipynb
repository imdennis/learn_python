{
 "cells": [
  {
   "cell_type": "code",
   "execution_count": 2,
   "metadata": {
    "collapsed": true
   },
   "outputs": [],
   "source": [
    "import requests\n",
    "from bs4 import BeautifulSoup"
   ]
  },
  {
   "cell_type": "code",
   "execution_count": 6,
   "metadata": {
    "collapsed": true
   },
   "outputs": [],
   "source": [
    "class PttCrawler:\n",
    "    \n",
    "    def __init__(self, board, page, write=False):\n",
    "        self.ptt_url = 'https://www.ptt.cc'\n",
    "        self.board = board\n",
    "        self.page = page\n",
    "        self.session = requests.Session()\n",
    "        self.session.cookies.update({\n",
    "            'over18': '1'\n",
    "        })\n",
    "        self.session.headers.update({\n",
    "            'User-Agent': \"Mozilla/5.0 (Macintosh; Intel Mac OS X 10_12_4)\"\n",
    "            \"AppleWebKit/603.1.30 (KHTML, like Gecko) Version/10.1 Safari/603.1.30\"\n",
    "        })\n",
    "        \n",
    "        self.write = write\n",
    "        \n",
    "    def bsHelper(self,bsobj):\n",
    "        titles = bsobj.findAll(\"div\", {\"class\": \"title\"})\n",
    "        linklist = []\n",
    "        for title in titles:\n",
    "            try:\n",
    "                linklist.append(title.a.attrs[\"href\"])\n",
    "            except:\n",
    "                continue\n",
    "        return linklist\n",
    "    \n",
    "    def fetchLink(self):\n",
    "        url = self.ptt_url + \"/bbs\"+ self.board +\"index.html\"\n",
    "        result_linklist= []\n",
    "        for i in range(self.page):\n",
    "            html = self.session.get(url).text\n",
    "            bsobj = BeautifulSoup(html, \"lxml\")\n",
    "\n",
    "            prev = bsobj.findAll(\"a\", {\"class\":\"btn wide\"})[1]\n",
    "            url = self.ptt_url + prev.attrs[\"href\"]\n",
    "            result_linklist.extend(self.bsHelper(bsobj))\n",
    "        return result_linklist \n",
    "    \n",
    "    def fetchPost(self,url):\n",
    "        html = self.session.get(self.ptt_url + url).text\n",
    "        bsobj = BeautifulSoup(html, \"lxml\")\n",
    "        head = bsobj.findAll(\"span\", {\"class\": \"article-meta-value\"})\n",
    "        try:\n",
    "            author = head[0].text\n",
    "        except:\n",
    "            author = None\n",
    "        try:\n",
    "            title = head[2].text\n",
    "        except:\n",
    "            title = None\n",
    "        try:\n",
    "            date = head[3].text\n",
    "        except:\n",
    "            date = None\n",
    "        main_content = bsobj.find(\"div\", {\"id\": \"main-content\"})\n",
    "        try:\n",
    "            content = main_content.text;\n",
    "            target_content=u'※ 發信站: 批踢踢實業坊(ptt.cc),'\n",
    "            content = content.split(target_content)\n",
    "            content = content[0].split(date)\n",
    "            main_content = content[1].replace('\\n', '').replace('\\t', '  ')\n",
    "        except:\n",
    "            content = None\n",
    "        return {\"date\":date, \"author\": author, \"title\": title, \"content\": main_content}\n",
    "    \n",
    "    def run(self):\n",
    "        result = [self.fetchPost(link) for link in self.fetchLink()]\n",
    "        return result\n"
   ]
  },
  {
   "cell_type": "code",
   "execution_count": 7,
   "metadata": {},
   "outputs": [],
   "source": [
    "#pttBot = PttCrawler(\"/Gossiping/\", 2)\n",
    "#result = pttBot.run(); "
   ]
  }
 ],
 "metadata": {
  "kernelspec": {
   "display_name": "Python 3",
   "language": "python",
   "name": "python3"
  },
  "language_info": {
   "codemirror_mode": {
    "name": "ipython",
    "version": 3
   },
   "file_extension": ".py",
   "mimetype": "text/x-python",
   "name": "python",
   "nbconvert_exporter": "python",
   "pygments_lexer": "ipython3",
   "version": "3.5.3"
  }
 },
 "nbformat": 4,
 "nbformat_minor": 2
}
