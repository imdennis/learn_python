{
 "cells": [
  {
   "cell_type": "code",
   "execution_count": 1,
   "metadata": {},
   "outputs": [
    {
     "name": "stdout",
     "output_type": "stream",
     "text": [
      "Requirement already up-to-date: beautifulsoup4 in ./.local/lib/python3.5/site-packages\n",
      "Requirement already up-to-date: lxml in ./.local/lib/python3.5/site-packages\n",
      "Requirement already up-to-date: html5lib==1.0b8 in ./.local/lib/python3.5/site-packages\n",
      "Requirement already up-to-date: six in ./.local/lib/python3.5/site-packages (from html5lib==1.0b8)\n"
     ]
    }
   ],
   "source": [
    "!pip install --user --upgrade beautifulsoup4 lxml html5lib==1.0b8"
   ]
  },
  {
   "cell_type": "code",
   "execution_count": 67,
   "metadata": {},
   "outputs": [
    {
     "name": "stdout",
     "output_type": "stream",
     "text": [
      "linklist: ['/bbs/Gossiping/M.1512633235.A.F15.html', '/bbs/Gossiping/M.1512633242.A.DC3.html', '/bbs/Gossiping/M.1512633244.A.FD2.html', '/bbs/Gossiping/M.1512633265.A.572.html', '/bbs/Gossiping/M.1512633283.A.23D.html', '/bbs/Gossiping/M.1512633301.A.B73.html', '/bbs/Gossiping/M.1512633311.A.E63.html', '/bbs/Gossiping/M.1512633314.A.88D.html', '/bbs/Gossiping/M.1512633318.A.4B3.html', '/bbs/Gossiping/M.1512633327.A.34E.html', '/bbs/Gossiping/M.1512633332.A.AEC.html', '/bbs/Gossiping/M.1512633336.A.146.html', '/bbs/Gossiping/M.1512633379.A.C3C.html', '/bbs/Gossiping/M.1512633402.A.91C.html', '/bbs/Gossiping/M.1512633417.A.C1B.html', '/bbs/Gossiping/M.1512633423.A.592.html', '/bbs/Gossiping/M.1512633486.A.B2A.html', '/bbs/Gossiping/M.1512633538.A.6AC.html', '/bbs/Gossiping/M.1510415718.A.D77.html', '/bbs/Gossiping/M.1512306790.A.A21.html', '/bbs/Gossiping/M.1512469417.A.3E3.html', '/bbs/Gossiping/M.1512498602.A.CB6.html', '/bbs/Gossiping/M.1512057611.A.16B.html']\n"
     ]
    }
   ],
   "source": [
    "import requests\n",
    "from bs4 import BeautifulSoup\n",
    "import re\n",
    "session = requests.Session()\n",
    "header = {'User-Agent': \"Mozilla/5.0 (Macintosh; Intel Mac OS X 10_12_4) AppleWebKit/603.1.30 (KHTML, like Gecko) Version/10.1 Safari/603.1.30\"}\n",
    "cookie = {'over18':'1'}\n",
    "html = session.get(\"https://www.ptt.cc/bbs/Gossiping/index.html\", headers=header, cookies=cookie).text\n",
    "bsobj = BeautifulSoup(html, \"lxml\")\n",
    "titles = bsobj.findAll(\"div\", {\"class\": \"title\"})\n",
    "linklist = [title.a.attrs[\"href\"] for title in titles]\n",
    "print(\"linklist:\", linklist)"
   ]
  },
  {
   "cell_type": "code",
   "execution_count": 60,
   "metadata": {
    "collapsed": true
   },
   "outputs": [],
   "source": [
    "def fetchPost(url):\n",
    "    html = session.get(\"https://www.ptt.cc/\" + url, headers=header, cookies={'over18':'1'}).text\n",
    "    bsobj = BeautifulSoup(html, \"lxml\")\n",
    "    head = bsobj.findAll(\"span\", {\"class\": \"article-meta-value\"})\n",
    "    try:\n",
    "        author = head[0].text\n",
    "    except:\n",
    "        author = None\n",
    "    try:\n",
    "        title = head[2].text\n",
    "    except:\n",
    "        title = None\n",
    "    return {\"author\": author, \"title\": title}"
   ]
  },
  {
   "cell_type": "code",
   "execution_count": 55,
   "metadata": {
    "scrolled": false
   },
   "outputs": [
    {
     "name": "stdout",
     "output_type": "stream",
     "text": [
      "[{'title': 'Re: [新聞] 哪些科系畢業後年薪就破百萬？網友分析', 'author': 'john5380 ()'}, {'title': '[新聞] 林佳龍：台中肺癌或肺腺癌發生率在全國', 'author': 'gji4jo676 (小杯┐綠茶〃)'}, {'title': 'Re: [新聞] 賴揆：一例一休須立即修法 台灣需要先進', 'author': 'circlelee (非斷不可)'}, {'title': '[新聞] 羅致政秀簡訊\\u3000批朱立倫禁周錫瑋致詞暗助', 'author': 'HANASUCIA (HANASUCIA)'}, {'title': '[新聞] 人妻好厲害！上網看靠北文抓到老公外遇', 'author': 'mia330 ()'}, {'title': '[新聞] 遊客讓落羽松園主人「切心」！ 國姓景點', 'author': 'conpo (獅子たちの旗)'}, {'title': '[問卦] 是不是要趁早尻', 'author': 'iComeInPeace (匹——嘶！)'}, {'title': '[新聞] 違規進聯訓基地撿砲彈炸裂 傷者尷尬向軍', 'author': 'ifulita (和泉政宗)'}, {'title': '[新聞] 賴清德指勞基法危害經濟要再修 勞動部：', 'author': 'borondawon (柏融大王)'}, {'title': 'Re: [新聞] 賴清德主導修法 徐國勇：非事實意圖分化', 'author': 'wizardfizban (瘋法師)'}, {'title': '電車難題', 'author': 'henrylee0410 (henrylee0410)'}, {'title': '[問卦] 新聞性侵，台灣男上女多，國外女上男多？', 'author': 'Lucky0105 (洋)'}, {'title': '[新聞] 哭!iPhoneX出現螢幕烙印?蘋果:遲早會遇到', 'author': 'kobest (如履薄冰)'}, {'title': 'Re: [新聞] 日少女在校遭霸凌自殺\\u3000這張照片讓人看了', 'author': 'gmooshan ()'}, {'title': '[問卦] 肥宅會用打火機開啤酒，有加分嗎？', 'author': 'gerychen (邪惡肥宅)'}, {'title': 'Re: [爆卦] 中國預備在中國朝鮮邊境設置難民安置點!!!', 'author': 'windbomb (阿比加加)'}, {'title': 'Re: [新聞] 羽絨外套貴日本1521元！日人逛台灣UNIQLO', 'author': 'Gilardino (吉拉)'}, {'title': '[新聞] 違建頻傳大火意外！台南宣戰強掃蕩', 'author': 'jiern (jiern)'}, {'title': '[公告] 八卦板板規(2017.11.11)', 'author': 'Kay731 (K少)'}, {'title': '［車禍］106/12/01捷運三重站外河堤', 'author': 'yang770610 (師)'}, {'title': '[協尋] 12月1日中午12點至12點半，淡水竹圍馬偕', 'author': 'rane (Frost)'}, {'title': None, 'author': 'a5353664 (魚孔雀)'}, {'title': None, 'author': None}]\n"
     ]
    }
   ],
   "source": [
    "fetchlist = [fetchPost(link) for link in linklist]\n",
    "print(fetchlist)"
   ]
  },
  {
   "cell_type": "code",
   "execution_count": null,
   "metadata": {
    "collapsed": true
   },
   "outputs": [],
   "source": []
  }
 ],
 "metadata": {
  "kernelspec": {
   "display_name": "Python 3",
   "language": "python",
   "name": "python3"
  },
  "language_info": {
   "codemirror_mode": {
    "name": "ipython",
    "version": 3
   },
   "file_extension": ".py",
   "mimetype": "text/x-python",
   "name": "python",
   "nbconvert_exporter": "python",
   "pygments_lexer": "ipython3",
   "version": "3.5.2"
  }
 },
 "nbformat": 4,
 "nbformat_minor": 2
}
