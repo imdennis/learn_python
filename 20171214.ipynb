{
 "cells": [
  {
   "cell_type": "code",
   "execution_count": 56,
   "metadata": {},
   "outputs": [
    {
     "name": "stdout",
     "output_type": "stream",
     "text": [
      "Requirement already up-to-date: beautifulsoup4 in ./.local/lib/python3.5/site-packages\n",
      "Requirement already up-to-date: lxml in ./.local/lib/python3.5/site-packages\n",
      "Requirement already up-to-date: html5lib==1.0b8 in ./.local/lib/python3.5/site-packages\n",
      "Requirement already up-to-date: six in ./.local/lib/python3.5/site-packages (from html5lib==1.0b8)\n"
     ]
    }
   ],
   "source": [
    "!pip install --user --upgrade beautifulsoup4 lxml html5lib==1.0b8"
   ]
  },
  {
   "cell_type": "code",
   "execution_count": 65,
   "metadata": {},
   "outputs": [
    {
     "name": "stdout",
     "output_type": "stream",
     "text": [
      "['/bbs/Gossiping/M.1513232552.A.A24.html', '/bbs/Gossiping/M.1513232609.A.421.html', '/bbs/Gossiping/M.1513232641.A.B06.html', '/bbs/Gossiping/M.1513232712.A.BCF.html', '/bbs/Gossiping/M.1513232731.A.6D8.html', '/bbs/Gossiping/M.1513232816.A.099.html', '/bbs/Gossiping/M.1513232825.A.B02.html', '/bbs/Gossiping/M.1513232828.A.927.html', '/bbs/Gossiping/M.1510415718.A.D77.html', '/bbs/Gossiping/M.1512579843.A.623.html', '/bbs/Gossiping/M.1512882583.A.B4E.html', '/bbs/Gossiping/M.1512057611.A.16B.html']\n"
     ]
    }
   ],
   "source": [
    "import requests\n",
    "from bs4 import BeautifulSoup\n",
    "session = requests.Session()\n",
    "header = {'User-Agent': \"Mozilla/5.0 (Macintosh; Intel Mac OS X 10_12_4) AppleWebKit/603.1.30 (KHTML, like Gecko) Version/10.1 Safari/603.1.30\"}\n",
    "cookie = {'over18':'1'}\n",
    "html = session.get(\"https://www.ptt.cc/bbs/Gossiping/index.html\", headers=header, cookies=cookie).text\n",
    "bsobj = BeautifulSoup(html, \"lxml\")\n",
    "titles = bsobj.findAll(\"div\", {\"class\": \"title\"})\n",
    "linklist = []\n",
    "for title in titles:\n",
    "    try:\n",
    "        linklist.append(title.a.attrs[\"href\"])\n",
    "    except:\n",
    "        continue\n",
    "print(linklist)"
   ]
  },
  {
   "cell_type": "code",
   "execution_count": 29,
   "metadata": {
    "collapsed": true
   },
   "outputs": [],
   "source": [
    "def fetchPost(url):\n",
    "    html = session.get(\"https://www.ptt.cc/\" + url, headers=header, cookies={'over18':'1'}).text\n",
    "    bsobj = BeautifulSoup(html, \"lxml\")\n",
    "    head = bsobj.findAll(\"span\", {\"class\": \"article-meta-value\"})\n",
    "    try:\n",
    "        author = head[0].text\n",
    "    except:\n",
    "        author = None\n",
    "    try:\n",
    "        title = head[2].text\n",
    "    except:\n",
    "        title = None\n",
    "    return {\"author\": author, \"title\": title}"
   ]
  },
  {
   "cell_type": "code",
   "execution_count": 30,
   "metadata": {
    "scrolled": false
   },
   "outputs": [
    {
     "name": "stdout",
     "output_type": "stream",
     "text": [
      "[{'author': 'FukubeSatosi (福部里志)', 'title': '[新聞] 兒子與AV女優交往 老媽直呼：感謝上帝！'}, {'author': 'punksir (快上來啊等妳耶)', 'title': 'Re: [新聞] 「沒小孩」 婆婆拒小嫻入籍'}, {'author': 'j3748365 ()', 'title': '[新聞] 法官開車被撞駛離現場\\u3000依肇逃判緩刑2年'}, {'author': 'sligiho (真心希望台灣經濟變好)', 'title': '[問卦] 綠能是不是崩潰了？'}, {'author': 'w386764329 (只是個數字人)', 'title': 'Re: [新聞] 只能看別人吃...錯過比賽沒披薩 老師竟問'}, {'author': 'yun54272 (Shr Chang)', 'title': '[問卦] 肛上開花 ？'}, {'author': 'kobe7610 (渴望的狗)', 'title': '[新聞] 老公買新車U5\\u3000花萬元鍍膜、狂洗車惹怒她'}, {'author': 'ezJapan (Japan)', 'title': 'Re: [新聞] 只能看別人吃...錯過比賽沒披薩 老師竟問'}, {'author': 'ck5 (逆時針)', 'title': 'Re: [新聞] 醫：扁有出國醫療必要 已有國外機構歡迎'}, {'author': 'tn00270144 (吱吱拉屎生蛆蛆)', 'title': 'Re: [新聞] 墾丁大街滷味「一盤920」\\u3000苦主紛紛現身.'}, {'author': 'trustinme (信任)', 'title': 'Re: [新聞] 柯文哲「兩岸一家親」 黃國昌：時力不可'}, {'author': 'changatcmu (台中金城武)', 'title': '[問卦] 余光中有什麼代表作嗎'}, {'author': 'aa1052026 (專罵藍綠垃圾黨)', 'title': 'Re: [問卦] 張無忌內力是倚天最強 為什麼無法輕鬆贏?'}, {'author': 'eiw123 (サトウカズマとは)', 'title': 'Re: [問卦] 南京事件是不是統治者造成的集體記憶錯誤'}, {'author': 'rial (deoo)', 'title': 'Re: [問卦]為何中國皇帝無法在國內建立天皇等級權威?'}, {'author': 'Kay731 (K少)', 'title': '[公告] 八卦板板規(2017.11.11)'}, {'author': 'lcyrose (榴槤飄飄)', 'title': '[協尋]12/4早上中壢環中東路車禍目擊 '}, {'author': 'vivismile (薇薇一笑)', 'title': '12/09 台南三媽臭臭鍋前車禍目擊'}, {'author': None, 'title': None}]\n"
     ]
    }
   ],
   "source": [
    "fetchlist = [fetchPost(link) for link in linklist]\n",
    "print(fetchlist)"
   ]
  },
  {
   "cell_type": "code",
   "execution_count": 106,
   "metadata": {},
   "outputs": [],
   "source": [
    "def pages(x):\n",
    "    url = \"https://www.ptt.cc/bbs/Gossiping/index.html\"\n",
    "    result_linklist= []\n",
    "    for i in range(x):\n",
    "        html = session.get(url, headers=header, cookies={'over18':'1'}).text\n",
    "        bsobj = BeautifulSoup(html, \"lxml\")\n",
    "        \n",
    "        prev = bsobj.findAll(\"a\", {\"class\":\"btn wide\"})[1]\n",
    "        url = \"https://www.ptt.cc/\" + prev.attrs[\"href\"]\n",
    "        result_linklist.extend(post_list(bsobj))\n",
    "    return result_linklist \n",
    "       \n",
    "        \n"
   ]
  },
  {
   "cell_type": "code",
   "execution_count": 107,
   "metadata": {},
   "outputs": [],
   "source": [
    "def post_list(bsobj):\n",
    "    titles = bsobj.findAll(\"div\", {\"class\": \"title\"})\n",
    "    linklist = []\n",
    "    for title in titles:\n",
    "        try:\n",
    "            linklist.append(title.a.attrs[\"href\"])\n",
    "        except:\n",
    "            continue\n",
    "    return linklist"
   ]
  },
  {
   "cell_type": "code",
   "execution_count": 108,
   "metadata": {},
   "outputs": [
    {
     "name": "stdout",
     "output_type": "stream",
     "text": [
      "['/bbs/Gossiping/M.1513233826.A.B66.html', '/bbs/Gossiping/M.1513233842.A.739.html', '/bbs/Gossiping/M.1513233875.A.E4F.html', '/bbs/Gossiping/M.1513233949.A.E4C.html', '/bbs/Gossiping/M.1513233966.A.6FE.html', '/bbs/Gossiping/M.1513233974.A.279.html', '/bbs/Gossiping/M.1513233979.A.414.html', '/bbs/Gossiping/M.1513234051.A.5E4.html', '/bbs/Gossiping/M.1513234057.A.74C.html', '/bbs/Gossiping/M.1513234121.A.98A.html', '/bbs/Gossiping/M.1513234152.A.898.html', '/bbs/Gossiping/M.1513234189.A.795.html', '/bbs/Gossiping/M.1513234199.A.B6C.html', '/bbs/Gossiping/M.1513234199.A.20A.html', '/bbs/Gossiping/M.1513234227.A.3EA.html', '/bbs/Gossiping/M.1510415718.A.D77.html', '/bbs/Gossiping/M.1512579843.A.623.html', '/bbs/Gossiping/M.1512882583.A.B4E.html', '/bbs/Gossiping/M.1512057611.A.16B.html', '/bbs/Gossiping/M.1513233217.A.4A4.html', '/bbs/Gossiping/M.1513233260.A.FAC.html', '/bbs/Gossiping/M.1513233294.A.C7F.html', '/bbs/Gossiping/M.1513233315.A.4C6.html', '/bbs/Gossiping/M.1513233347.A.0D2.html', '/bbs/Gossiping/M.1513233349.A.6AA.html', '/bbs/Gossiping/M.1513233367.A.735.html', '/bbs/Gossiping/M.1513233376.A.E5E.html', '/bbs/Gossiping/M.1513233376.A.FD9.html', '/bbs/Gossiping/M.1513233377.A.B43.html', '/bbs/Gossiping/M.1513233444.A.471.html', '/bbs/Gossiping/M.1513233486.A.145.html', '/bbs/Gossiping/M.1513233595.A.6CA.html', '/bbs/Gossiping/M.1513233665.A.86E.html', '/bbs/Gossiping/M.1513233713.A.5A8.html', '/bbs/Gossiping/M.1513233714.A.517.html', '/bbs/Gossiping/M.1513233771.A.D92.html', '/bbs/Gossiping/M.1513233803.A.CD4.html', '/bbs/Gossiping/M.1513233804.A.BF7.html', '/bbs/Gossiping/M.1513232552.A.A24.html', '/bbs/Gossiping/M.1513232609.A.421.html', '/bbs/Gossiping/M.1513232641.A.B06.html', '/bbs/Gossiping/M.1513232712.A.BCF.html', '/bbs/Gossiping/M.1513232731.A.6D8.html', '/bbs/Gossiping/M.1513232816.A.099.html', '/bbs/Gossiping/M.1513232825.A.B02.html', '/bbs/Gossiping/M.1513232828.A.927.html', '/bbs/Gossiping/M.1513232942.A.A6D.html', '/bbs/Gossiping/M.1513232947.A.306.html', '/bbs/Gossiping/M.1513232947.A.286.html', '/bbs/Gossiping/M.1513232952.A.E2E.html', '/bbs/Gossiping/M.1513232970.A.E83.html', '/bbs/Gossiping/M.1513233044.A.101.html', '/bbs/Gossiping/M.1513233079.A.33A.html', '/bbs/Gossiping/M.1513233080.A.41C.html', '/bbs/Gossiping/M.1513233120.A.CF0.html', '/bbs/Gossiping/M.1513233168.A.1F2.html', '/bbs/Gossiping/M.1513231955.A.358.html', '/bbs/Gossiping/M.1513231963.A.820.html', '/bbs/Gossiping/M.1513231982.A.302.html', '/bbs/Gossiping/M.1513232066.A.60D.html', '/bbs/Gossiping/M.1513232080.A.B7C.html', '/bbs/Gossiping/M.1513232143.A.134.html', '/bbs/Gossiping/M.1513232165.A.3C2.html', '/bbs/Gossiping/M.1513232219.A.161.html', '/bbs/Gossiping/M.1513232239.A.196.html', '/bbs/Gossiping/M.1513232240.A.672.html', '/bbs/Gossiping/M.1513232277.A.EEF.html', '/bbs/Gossiping/M.1513232313.A.27E.html', '/bbs/Gossiping/M.1513232370.A.CE9.html', '/bbs/Gossiping/M.1513232470.A.235.html', '/bbs/Gossiping/M.1513232474.A.35D.html', '/bbs/Gossiping/M.1513232503.A.05B.html', '/bbs/Gossiping/M.1513232521.A.D03.html', '/bbs/Gossiping/M.1513232525.A.220.html', '/bbs/Gossiping/M.1513231338.A.CF1.html', '/bbs/Gossiping/M.1513231343.A.9F2.html', '/bbs/Gossiping/M.1513231347.A.8FA.html', '/bbs/Gossiping/M.1513231382.A.4A0.html', '/bbs/Gossiping/M.1513231397.A.634.html', '/bbs/Gossiping/M.1513231420.A.F03.html', '/bbs/Gossiping/M.1513231424.A.AD6.html', '/bbs/Gossiping/M.1513231431.A.E4A.html', '/bbs/Gossiping/M.1513231438.A.CEC.html', '/bbs/Gossiping/M.1513231439.A.322.html', '/bbs/Gossiping/M.1513231440.A.08E.html', '/bbs/Gossiping/M.1513231496.A.B86.html', '/bbs/Gossiping/M.1513231528.A.022.html', '/bbs/Gossiping/M.1513231698.A.726.html', '/bbs/Gossiping/M.1513231759.A.280.html', '/bbs/Gossiping/M.1513231803.A.ED4.html', '/bbs/Gossiping/M.1513231884.A.A8B.html', '/bbs/Gossiping/M.1513231888.A.B93.html', '/bbs/Gossiping/M.1513231933.A.CB4.html', '/bbs/Gossiping/M.1513230999.A.893.html', '/bbs/Gossiping/M.1513231023.A.797.html', '/bbs/Gossiping/M.1513231082.A.049.html', '/bbs/Gossiping/M.1513231091.A.123.html', '/bbs/Gossiping/M.1513231100.A.E2F.html', '/bbs/Gossiping/M.1513231100.A.A56.html', '/bbs/Gossiping/M.1513231142.A.57C.html', '/bbs/Gossiping/M.1513231153.A.F29.html', '/bbs/Gossiping/M.1513231156.A.4C6.html', '/bbs/Gossiping/M.1513231162.A.38F.html', '/bbs/Gossiping/M.1513231213.A.A77.html', '/bbs/Gossiping/M.1513231223.A.6CA.html', '/bbs/Gossiping/M.1513231236.A.46A.html', '/bbs/Gossiping/M.1513231242.A.3A8.html', '/bbs/Gossiping/M.1513231244.A.0A7.html', '/bbs/Gossiping/M.1513231261.A.87C.html', '/bbs/Gossiping/M.1513231298.A.B12.html', '/bbs/Gossiping/M.1513231318.A.3F3.html', '/bbs/Gossiping/M.1513231323.A.306.html', '/bbs/Gossiping/M.1513230419.A.141.html', '/bbs/Gossiping/M.1513230454.A.660.html', '/bbs/Gossiping/M.1513230494.A.396.html', '/bbs/Gossiping/M.1513230514.A.040.html', '/bbs/Gossiping/M.1513230519.A.ECC.html', '/bbs/Gossiping/M.1513230528.A.A4E.html', '/bbs/Gossiping/M.1513230584.A.66C.html', '/bbs/Gossiping/M.1513230610.A.8A5.html', '/bbs/Gossiping/M.1513230619.A.123.html', '/bbs/Gossiping/M.1513230636.A.5A8.html', '/bbs/Gossiping/M.1513230683.A.A11.html', '/bbs/Gossiping/M.1513230755.A.601.html', '/bbs/Gossiping/M.1513230765.A.5AE.html', '/bbs/Gossiping/M.1513230774.A.EB0.html', '/bbs/Gossiping/M.1513230841.A.09B.html', '/bbs/Gossiping/M.1513230857.A.898.html', '/bbs/Gossiping/M.1513230918.A.3CA.html', '/bbs/Gossiping/M.1513230929.A.4EF.html', '/bbs/Gossiping/M.1513230973.A.7A8.html', '/bbs/Gossiping/M.1513230976.A.2AA.html', '/bbs/Gossiping/M.1513229756.A.0FC.html', '/bbs/Gossiping/M.1513229787.A.22A.html', '/bbs/Gossiping/M.1513229824.A.4C5.html', '/bbs/Gossiping/M.1513229847.A.FB1.html', '/bbs/Gossiping/M.1513229909.A.ACF.html', '/bbs/Gossiping/M.1513229936.A.F76.html', '/bbs/Gossiping/M.1513229977.A.54F.html', '/bbs/Gossiping/M.1513229994.A.579.html', '/bbs/Gossiping/M.1513230004.A.7AA.html', '/bbs/Gossiping/M.1513230062.A.D99.html', '/bbs/Gossiping/M.1513230090.A.299.html', '/bbs/Gossiping/M.1513230112.A.E1A.html', '/bbs/Gossiping/M.1513230187.A.0A1.html', '/bbs/Gossiping/M.1513230244.A.B7E.html', '/bbs/Gossiping/M.1513230254.A.6FF.html', '/bbs/Gossiping/M.1513230362.A.B66.html', '/bbs/Gossiping/M.1513230368.A.9B1.html', '/bbs/Gossiping/M.1513230381.A.310.html', '/bbs/Gossiping/M.1513230386.A.3AB.html', '/bbs/Gossiping/M.1513230405.A.6D9.html', '/bbs/Gossiping/M.1513229133.A.27B.html', '/bbs/Gossiping/M.1513229168.A.AA1.html', '/bbs/Gossiping/M.1513229175.A.A0E.html', '/bbs/Gossiping/M.1513229182.A.168.html', '/bbs/Gossiping/M.1513229225.A.D02.html', '/bbs/Gossiping/M.1513229232.A.870.html', '/bbs/Gossiping/M.1513229236.A.284.html', '/bbs/Gossiping/M.1513229261.A.CC2.html', '/bbs/Gossiping/M.1513229324.A.C13.html', '/bbs/Gossiping/M.1513229396.A.EDD.html', '/bbs/Gossiping/M.1513229431.A.A85.html', '/bbs/Gossiping/M.1513229445.A.E01.html', '/bbs/Gossiping/M.1513229516.A.C59.html', '/bbs/Gossiping/M.1513229583.A.F3B.html', '/bbs/Gossiping/M.1513229613.A.4A7.html', '/bbs/Gossiping/M.1513229640.A.AB3.html', '/bbs/Gossiping/M.1513229684.A.86E.html', '/bbs/Gossiping/M.1513229736.A.8A0.html', '/bbs/Gossiping/M.1513229745.A.23D.html', '/bbs/Gossiping/M.1513228742.A.110.html', '/bbs/Gossiping/M.1513228744.A.29F.html', '/bbs/Gossiping/M.1513228758.A.5A2.html', '/bbs/Gossiping/M.1513228775.A.30E.html', '/bbs/Gossiping/M.1513228779.A.7FB.html', '/bbs/Gossiping/M.1513228783.A.A7F.html', '/bbs/Gossiping/M.1513228786.A.992.html', '/bbs/Gossiping/M.1513228808.A.52B.html', '/bbs/Gossiping/M.1513228841.A.BFF.html', '/bbs/Gossiping/M.1513228864.A.91E.html', '/bbs/Gossiping/M.1513228880.A.6FC.html', '/bbs/Gossiping/M.1513228890.A.0A2.html', '/bbs/Gossiping/M.1513228897.A.6D4.html', '/bbs/Gossiping/M.1513228906.A.D30.html', '/bbs/Gossiping/M.1513228917.A.FD5.html', '/bbs/Gossiping/M.1513228930.A.17C.html', '/bbs/Gossiping/M.1513228950.A.C2D.html', '/bbs/Gossiping/M.1513229005.A.9EC.html', '/bbs/Gossiping/M.1513229054.A.466.html', '/bbs/Gossiping/M.1513229127.A.746.html', '/bbs/Gossiping/M.1513228210.A.BD3.html', '/bbs/Gossiping/M.1513228265.A.305.html', '/bbs/Gossiping/M.1513228313.A.391.html', '/bbs/Gossiping/M.1513228373.A.1E8.html', '/bbs/Gossiping/M.1513228375.A.044.html', '/bbs/Gossiping/M.1513228382.A.630.html', '/bbs/Gossiping/M.1513228398.A.931.html', '/bbs/Gossiping/M.1513228438.A.55F.html', '/bbs/Gossiping/M.1513228484.A.26E.html', '/bbs/Gossiping/M.1513228523.A.333.html', '/bbs/Gossiping/M.1513228530.A.CD0.html', '/bbs/Gossiping/M.1513228560.A.E5F.html', '/bbs/Gossiping/M.1513228632.A.D60.html', '/bbs/Gossiping/M.1513228633.A.425.html', '/bbs/Gossiping/M.1513228655.A.CF8.html', '/bbs/Gossiping/M.1513228708.A.629.html', '/bbs/Gossiping/M.1513228710.A.876.html', '/bbs/Gossiping/M.1513228715.A.41A.html', '/bbs/Gossiping/M.1513227723.A.922.html', '/bbs/Gossiping/M.1513227740.A.3C1.html', '/bbs/Gossiping/M.1513227755.A.9C5.html', '/bbs/Gossiping/M.1513227770.A.01B.html', '/bbs/Gossiping/M.1513227779.A.AD4.html', '/bbs/Gossiping/M.1513227782.A.634.html', '/bbs/Gossiping/M.1513227814.A.E4F.html', '/bbs/Gossiping/M.1513227828.A.C08.html', '/bbs/Gossiping/M.1513227838.A.C11.html', '/bbs/Gossiping/M.1513227867.A.28E.html', '/bbs/Gossiping/M.1513227885.A.A4E.html', '/bbs/Gossiping/M.1513228018.A.BBF.html', '/bbs/Gossiping/M.1513228026.A.167.html', '/bbs/Gossiping/M.1513228044.A.9C9.html', '/bbs/Gossiping/M.1513228047.A.962.html', '/bbs/Gossiping/M.1513228052.A.772.html', '/bbs/Gossiping/M.1513228142.A.239.html', '/bbs/Gossiping/M.1513228177.A.141.html', '/bbs/Gossiping/M.1513228200.A.0EA.html']\n"
     ]
    }
   ],
   "source": [
    "print(pages(12))"
   ]
  },
  {
   "cell_type": "code",
   "execution_count": 109,
   "metadata": {},
   "outputs": [
    {
     "name": "stdout",
     "output_type": "stream",
     "text": [
      "[{'author': 'Yirgacheffe (イルガチェッフェ)', 'title': '[新聞] 逾半中國富二代 不想繼承家族企業'}, {'author': 'wahaha23 (請勿拍打餵食)', 'title': '[新聞] 英超》席爾瓦獻2球\\u3000曼城客場4-0輕取斯'}, {'author': 'xibi11231123 (小洋)', 'title': '[問卦] 國外出差一天60鎂算多還少?'}, {'author': 'PttGGYY (ㄆ1ㄊ1ㄊ1ㄐ1ㄐ1ㄨㄞㄨㄞ)', 'title': '[新聞] 你不知道的余光中！改變了李泰祥和黃春明'}, {'author': 'chenxfu (やめて!やめて!あ♥は~ん)', 'title': '[問卦] 兩個獨孤九劍互打會怎樣???'}, {'author': 'gene2575 (gene2575)', 'title': '[問卦] 把余光中當偶像的人在想什麼？'}, {'author': 'selvester (水昆蟲)', 'title': '[問卦] 有沒有cash me outside的八卦？'}, {'author': 'panzer1224 (panzer1224)', 'title': '[新聞] 恭喜！李玖哲驚爆與相馬茜結婚了'}, {'author': 'sativa (阿布)', 'title': '[新聞] 肺癌年輕化！26歲女沒抽菸仍罹癌空汙變'}, {'author': 'paetix (少冰微糖)', 'title': '[新聞] 呂秀蓮推明年公投 讓台灣變永久中立國'}, {'author': 'linabcayumi (稻葉山城)', 'title': '[新聞] 時代力量推新北候選人？\\u3000黃國昌：原以'}, {'author': 'yu76 (uccliu)', 'title': '[問卦] 有 逐夢關懷生命協會 的卦嗎？'}, {'author': 'Rsreturn (relly)', 'title': 'Re: [問卦] 為何一堆醜男都喜歡把兩邊剃掉抓上面頭髮'}, {'author': 'elipeng (qwerty5566)', 'title': '[爆卦] bsl的作者辭世，享年92歲'}, {'author': 'goooeooo (ge)', 'title': 'Re: [新聞] 只能看別人吃...錯過比賽沒披薩 老師竟問'}, {'author': 'Kay731 (K少)', 'title': '[公告] 八卦板板規(2017.11.11)'}, {'author': 'lcyrose (榴槤飄飄)', 'title': '[協尋]12/4早上中壢環中東路車禍目擊 '}, {'author': 'vivismile (薇薇一笑)', 'title': '12/09 台南三媽臭臭鍋前車禍目擊'}, {'author': None, 'title': None}, {'author': 'sanae0307 (防空棲姬人柱力)', 'title': 'Re: [新聞] 只能看別人吃...錯過比賽沒披薩 老師竟問'}, {'author': 'yayaya9487 (yayaya)', 'title': 'Re: [新聞]   蔣萬安提加班依比率換補休\\u3000勞動部給軟'}, {'author': 'ymuit (眼眸之珠)', 'title': '[新聞] 中肯！連生3女才喜獲麟兒\\u3000許常德譙何媽'}, {'author': 'XXXXSHIT (好想撲殺甲甲)', 'title': 'Re: [問卦] 余光中有什麼代表作嗎'}, {'author': 'livewater (螢幕比本人帥)', 'title': '[問卦] 芳文社有什麼代表作？'}, {'author': 'Whitan (蒼天之罪)', 'title': '[新聞] 余光中：政治會變動 文學作品不朽'}, {'author': 'Isaea (Isaea)', 'title': '[問卦] 教授上課為什麼要用英文？'}, {'author': 'Zenonia (zenCoin)', 'title': '[問卦] 樓下你猜marklin的雞雞等下會怎麼樣'}, {'author': 'posen2012 (posen)', 'title': '[問卦] 獨孤九劍擋的住魔貫光殺砲嗎'}, {'author': 'HXXXXZ (HXXXXZ>:D<)', 'title': '[問卦] 如果明天出楓之谷M'}, {'author': 'neutro (Be a better man)', 'title': '[問卦] 好人不長命？'}, {'author': 'Bartholemew (蘋果樹    )', 'title': 'Re: [問卦]周伯通才是金庸小說武功最強的吧!??'}, {'author': 'HMTking ()', 'title': '[問卦] 日本新幹線與中國高鐵哪個技術好？'}, {'author': 'limoncool (戰鬥女子學園特聘工讀生)', 'title': '[問卦] 有沒有羅傑的八卦'}, {'author': 'vancepeng (urmomisbetter)', 'title': 'Re: [問卦] 余光中有什麼代表作嗎'}, {'author': 'rial (deoo)', 'title': 'Re: [問卦] 余光中有什麼代表作嗎'}, {'author': 'shrines (中國志漲/志漲中國)', 'title': 'Re: [新聞] 超商寄硬碟爛到像被車壓過\\u3000買家傻眼：還'}, {'author': 'kinple (( ￣ c￣)y▂ξ)', 'title': '[新聞] 警追酒駕被辱「法克」 酒醉男卻無罪脫身'}, {'author': 'admeta (陽明山)', 'title': '[新聞] 美眾議員遭控性騷擾！受不了輿論壓力自盡'}, {'author': 'yakifone (復員兵)', 'title': 'Re: [新聞] CITYLINK松山貳號店開幕\\u3000蔦屋書店也來了'}, {'author': 'pq0428 (PQ)', 'title': 'Re: [新聞] 日前首相人民日報撰文 籲日本以史為鑑'}, {'author': 'micrub9314 (endless love)', 'title': '[問卦] 日本要怎麼做才能統治世界??'}, {'author': 'Irenicus (Jon Irenicus)', 'title': '[問卦] 有沒有現代遊戲的轉蛋始祖的八卦'}, {'author': 'hk416 (☑☠☜✉☎♂♀♪嫑嫑的)', 'title': '[問卦] 余祥銓上節目一對四，招架不住了'}, {'author': 'nomien (這個派對就是在美國)', 'title': 'Re: [問卦]周伯通才是金庸小說武功最強的吧!??'}, {'author': 'oryza (綠光)', 'title': '[新聞] 法官肇事逃逸 事後回神向警自首獲判緩刑'}, {'author': 'meta41110 (阿標)', 'title': '[問卦] 兩津是不是輕鬆屌打阿發狗0.0??'}, {'author': 'Pietro (☞金肅πετροσ)', 'title': '[ＦＢ] 安定力量 最後掙扎的爛招！'}, {'author': 'kuma525566 (kuma525566)', 'title': '[問卦] 擋不住的太陽 不管我抵抗'}, {'author': 'Acalanatha30 (聊天室7起來)', 'title': '[新聞] 中國正掀起一場「廁所革命」\\u3000習近平：'}, {'author': 'jouen (呵呵)', 'title': '[問卦] 麻倉憂'}, {'author': 'Tarsun (油好多)', 'title': '[新聞] 驚悚】女在機場窗外玩極限高空倒掛\\u3000體力'}, {'author': 'smpss93126 (路人甲XD)', 'title': '[問卦] 公車上被妹子撲倒歐抖ㄎㄟ'}, {'author': 'destiny1895 (1895的命運)', 'title': '[問卦] 台灣文學沒價值也沒文化？'}, {'author': 'blackzero1 (瘦宅)', 'title': '[問卦] 獨孤九劍擋得住小李飛刀嗎？'}, {'author': 'voohong (肥宅滅絕計劃通)', 'title': '[問卦] 有沒有擂台解說員的八卦？'}, {'author': 'mobley2005 (1995年 我們在機場的車站)', 'title': '[問卦] 捧中賴台灣 捧日賴台灣 哪個可惡？'}, {'author': 'q5212 (q5212)', 'title': '[新聞] 台電燃料成本明年大增400億 恐由國庫埋?1'}, {'author': 'dodo774 (今天不賣披薩)', 'title': '[問卦] 現在穿搭露出襪子是主流嗎?'}, {'author': 'maruEX (KATE)', 'title': '[新聞] 十九大「閉幕」寫「閉目」網友被刑拘10天'}, {'author': 'crimson11 (crimson)', 'title': '[問卦] 有沒有人跟派遣女醫一樣的卦呢'}, {'author': 'd125383957 (人母瘋‧娼婦館)', 'title': '[問卦] 林美珠有什麼代表作？'}, {'author': 'shinmoner (WISDOM)', 'title': '[新聞] 國台辦：與國民黨保持經常性聯繫交往'}, {'author': 'wei115 (ㄎㄎ)', 'title': '[問卦] FBI的資料庫是不是有很多蘿片阿?'}, {'author': 'gostjoke (鬼笑話)', 'title': '[問卦] 是不是應該立法規範免費增值遊戲？'}, {'author': 'Zenonia (zenCoin)', 'title': '[問卦] 心儀的對象懷孕了？'}, {'author': 'blackzero1 (瘦宅)', 'title': '[問卦] 為何一堆醜男都喜歡把兩邊剃掉抓上面頭髮'}, {'author': 'tifiosi (new)', 'title': 'Re: [新聞] 張忠謀：空汙最大原因 不是電廠而是汽機'}, {'author': 'cxzdsa (cxzdsa)', 'title': '[新聞] 不滿醉漢KTV嗆櫃台 年輕人圍毆全進警局'}, {'author': 'chamael (卡麥爾)', 'title': '[問卦] 今天入伍，卻突然不用當兵是？'}, {'author': 'SuperKMT (鼠輩)', 'title': '[問卦] 為何三金主持人都不找利菁 菁姐？'}, {'author': 'batbruce00 (老爺)', 'title': '[問卦] 有沒有女生上廁所可以用小便斗的八卦？'}, {'author': 'iamflash (荻原子荻)', 'title': '有沒有余光中晚年的掛'}, {'author': 'makinoyui (大商共主・仙劍哥)', 'title': 'Re: [爆卦] 余光中好像過世了'}, {'author': 'mikamitomoya (三上智也)', 'title': 'Re: [問卦] 林美珠有什麼代表作？'}, {'author': 'wpj09 (柏融大王)', 'title': '[問卦] 遇到修學旅行中的女高中生怎麼辦？'}, {'author': 'rial (deoo)', 'title': 'Re: [新聞] 柯文哲「兩岸一家親」 黃國昌：時力不可'}, {'author': 'InfinityGate (小鳥)', 'title': '[問卦] 有沒有kirara的八卦'}, {'author': 'Lo78 ( *_* )', 'title': '[問卦] LINE的點數要怎麼花最划算'}, {'author': 'AsahiBeer (朝日啤酒)', 'title': '[問卦] 開什麼車才像文青'}, {'author': 'tysh710320 (魯酸菌)', 'title': 'Re: [問卦] 余光中有什麼代表作嗎'}, {'author': 'MaBumblerQQ (KMT=健全、民主、清廉)', 'title': 'Re: [問卦] 余光中有什麼代表作嗎'}, {'author': 'paralux (沒有MD最愛和紗)', 'title': '[新聞] 驚爆！高醫學生反偽董會「黑箱校長遴選」'}, {'author': 'bill0628 (紅魚)', 'title': 'Re: [新聞] 只能看別人吃...錯過比賽沒披薩 老師竟問'}, {'author': 'jardon (綜合水果汁武士)', 'title': 'Re: [問卦] 余光中有什麼代表作嗎'}, {'author': 'uavan (a man in blue)', 'title': 'Re: [新聞] 青年就業領航媒合率低 林美珠：國人愛升'}, {'author': 'paulpengtw (聚丙烯)', 'title': 'Re: [爆卦] 余光中好像過世了'}, {'author': 'hydran5566 (Nonstop)', 'title': '[問卦] 超級喜歡！大橋未久！！！'}, {'author': 'NCKUFatPork (成大肥宅悲歌)', 'title': '[問卦] 有沒有大智若魚的八卦?'}, {'author': 'todao (心裡有數)', 'title': 'Re: [問卦] 余光中有什麼代表作嗎'}, {'author': 'Siegfried921 (白兔，♂的)', 'title': '[新聞] 最低工資法 林美珠：期許明年可提出'}, {'author': 'rurugia (佛撞牆)', 'title': '[問卦] TWICE 每首歌曲最正?'}, {'author': 'ggus (綠燈幸福)', 'title': '[問卦] 現在CP值最高的平價手機是哪台?'}, {'author': 'scoutjack ()', 'title': '[問卦] 酉梅酉挫漬的巴掛'}, {'author': 'allen9527 (allen9527)', 'title': 'Re: [爆卦] 余光中好像過世了'}, {'author': 's1025342 (飄泊劍心)', 'title': '[問卦] 施工太吵怎麼辦'}, {'author': 'heart9677 (超營養雞排)', 'title': '[問卦] 灑水車在裝水'}, {'author': 'Kay731 (K少)', 'title': '[公告] 板規修改'}, {'author': 'ps124125288 (ptt)', 'title': 'Re: [新聞] 「沒小孩」 婆婆拒小嫻入籍'}, {'author': 'JuicyChen (小酒窩 長出睫毛 )', 'title': '[問卦] 有沒有 余光中<鄉愁>的八卦?'}, {'author': 'L134 (黃金斑馬)', 'title': '[問卦] 石斑繁殖20年就發論文，被中國偷啥技術?'}, {'author': 'WinNOKIA (海神)', 'title': '[問卦] 武藤遊戲下棋贏得了sai嗎'}, {'author': 'adware0105 (洋)', 'title': '[問卦] 在碧昂絲跟火星人中間的是誰?'}, {'author': 'sgtpepper (MrMoonlight)', 'title': 'Re: [問卦] 肥宅會自己做木工，正妹知道會加分嗎'}, {'author': 'EXGG (小徹)', 'title': '[問卦] 肥宅每天都會大屠殺嗎？！'}, {'author': 'fawangching (Mr.peace)', 'title': '[問卦] 為什麼如此迷戀女體？'}, {'author': 'bengowa (幾百億)', 'title': '[問卦] 男人到底要有包皮幹甚麼?'}, {'author': 'kasumi5566 (霞)', 'title': '[問卦] 種瓠仔生菜瓜算是好事吧?'}, {'author': 'adslk6212 (健健)', 'title': 'Re: [新聞] 超商寄硬碟爛到像被車壓過\\u3000買家傻眼：還'}, {'author': 'k10055960 (我不想做暗星雲)', 'title': '[新聞] 蔡英文將取消獵雷艦國造\\u3000慶富弊案海軍'}, {'author': 'gn01914712 (台大人類系之光柏豪哥)', 'title': '[問卦] 覺得一直出國玩就是不愛台灣的八卦'}, {'author': 'tommy6 (湯麋鹿)', 'title': 'Re: [問卦] 余光中有什麼代表作嗎'}, {'author': 'fantasibear (布穀熊)', 'title': 'Re: [新聞] 墾丁大街滷味「一盤920」\\u3000苦主紛紛現身.'}, {'author': 'c753968412 (c753968412)', 'title': '[問卦] 女同學說她比火箭隊的貓咪還要壞怎辦'}, {'author': 'york1987 (明華~明華~!!!)', 'title': '[新聞] 俄製R27飛彈脫胎換骨 陸殲11B掛著它繞台'}, {'author': 'mc3308321 (阿阿阿阿)', 'title': 'Re: [新聞] 南京大屠殺80周年 台灣只有馬英九發聲'}, {'author': 'lovexu3xu4 (ILoveMaEng)', 'title': 'Re: [問卦] 女同學說她比火箭隊的貓咪還要壞怎辦'}, {'author': 'wangyc (喜包)', 'title': '[問卦] 一般人知道什麼是芳文社嗎'}, {'author': 'GodGeass (基亞思)', 'title': '[新聞] 青年先就業成效差 林美珠：國人觀念難改'}, {'author': 'lio226 (肺癆打臉王)', 'title': 'Re: [爆卦] 余光中好像過世了'}, {'author': 'CowYao (靠腰)', 'title': '[新聞] 號召罷昌\\u3000蔡正元：檢驗黃國昌思想的機會'}, {'author': 'ILoveElsa (超高校級的醬油採購師)', 'title': '[問卦] 好臭=='}, {'author': 'TyuzuChou (子瑜我老婆)', 'title': 'Re: [問卦] 人肉好吃嗎？'}, {'author': 'meredith001 (蓮華我老婆￣▽￣)', 'title': '[新聞] 馬英九被評Bumbler\\u3000余光中曾勉：是拙不'}, {'author': 'st9061204 (阿克西斯異端審判騎士)', 'title': '[問卦]天堂M是不是燒錢遊戲?'}, {'author': 'nomo2377 (我開愛買 甚麼都買)', 'title': 'Re: [新聞] 超商寄硬碟爛到像被車壓過\\u3000買家傻眼：還'}, {'author': 'alex94539 (上低音鶴)', 'title': 'Re: [問卦] 好臭=='}, {'author': 'saskuran (beyourguard)', 'title': '[問卦] 空汙不是台電造成的吧'}, {'author': 'catwalk456 (巴黎草莓)', 'title': '[新聞] 名人髮型熱搜榜\\u3000林書豪擊敗柯瑞奪冠'}, {'author': 'sonyabear (忍魯腹重)', 'title': '[問卦] 有沒有妹妹法官與內褲審判庭的八卦？'}, {'author': 'HomeTogether (人在歸途)', 'title': '[新聞] 竹聯黑幫秀「統促黨證」 暴力討債被捕'}, {'author': 'amordelcor (heyheyhey)', 'title': 'Re: [新聞] 墾丁大街滷味「一盤920」\\u3000苦主紛紛'}, {'author': 'FuyumiIrisu (入須冬実)', 'title': '[新聞] 台北市延平基督教會 指定市定古蹟'}, {'author': 'FukubeSatosi (福部里志)', 'title': '[新聞] 兒子與AV女優交往 老媽直呼：感謝上帝！'}, {'author': 'punksir (快上來啊等妳耶)', 'title': 'Re: [新聞] 「沒小孩」 婆婆拒小嫻入籍'}, {'author': 'j3748365 ()', 'title': '[新聞] 法官開車被撞駛離現場\\u3000依肇逃判緩刑2年'}, {'author': 'sligiho (真心希望台灣經濟變好)', 'title': '[問卦] 綠能是不是崩潰了？'}, {'author': 'w386764329 (只是個數字人)', 'title': 'Re: [新聞] 只能看別人吃...錯過比賽沒披薩 老師竟問'}, {'author': 'yun54272 (Shr Chang)', 'title': '[問卦] 肛上開花 ？'}, {'author': 'kobe7610 (渴望的狗)', 'title': '[新聞] 老公買新車U5\\u3000花萬元鍍膜、狂洗車惹怒她'}, {'author': 'ezJapan (Japan)', 'title': 'Re: [新聞] 只能看別人吃...錯過比賽沒披薩 老師竟問'}, {'author': 'ck5 (逆時針)', 'title': 'Re: [新聞] 醫：扁有出國醫療必要 已有國外機構歡迎'}, {'author': 'tn00270144 (吱吱拉屎生蛆蛆)', 'title': 'Re: [新聞] 墾丁大街滷味「一盤920」\\u3000苦主紛紛現身.'}, {'author': 'trustinme (信任)', 'title': 'Re: [新聞] 柯文哲「兩岸一家親」 黃國昌：時力不可'}, {'author': 'changatcmu (台中金城武)', 'title': '[問卦] 余光中有什麼代表作嗎'}, {'author': 'aa1052026 (專罵藍綠垃圾黨)', 'title': 'Re: [問卦] 張無忌內力是倚天最強 為什麼無法輕鬆贏?'}, {'author': 'eiw123 (サトウカズマとは)', 'title': 'Re: [問卦] 南京事件是不是統治者造成的集體記憶錯誤'}, {'author': 'rial (deoo)', 'title': 'Re: [問卦]為何中國皇帝無法在國內建立天皇等級權威?'}, {'author': 'RandyMarsh (同志友善の屎蛋爸)', 'title': 'Re: [ＦＢ] 同志熱線 #爽歪歪之與HIV一同變老'}, {'author': 'MiLuDaiBoom (臉粗脖子紅)', 'title': '[問卦] 醫德真的很重要嗎??'}, {'author': 'pindzur (西瓜)', 'title': '[新聞] 綠新生代爭提名\\u3000秘密找紙風車培訓政治?1'}, {'author': 'gx9900824 (ZETA)', 'title': 'Re: [新聞] 突失控嘶吼！高中生畢旅住五星級飯店 深'}, {'author': 'davendaven1 (花惹發)', 'title': '[問卦] Line是不是有詐騙嫌疑？'}, {'author': 'marcus176 (*^_^*)', 'title': '[新聞] 防空污 逾10年老車加速汰換'}, {'author': 'InfocusM510 (Now I use iphone)', 'title': 'Re: [問卦] 有沒有對小學老師不爽的回憶？'}, {'author': 'pikachu22011 (是呦)', 'title': '[新聞] 聲援馬英九 國民黨團:檢調不應淪為鬥爭工'}, {'author': 'gn1033013 (大吉大利)', 'title': '[ＦＢ] 台大濁水溪社 吳沛憶學姊，你是玩真的嗎?'}, {'author': 'VVUVV (Gotcha!)', 'title': '[問卦] 出寶可夢M有搞頭嗎?'}, {'author': 'accommodate (123)', 'title': '[問卦] 養烏魚很賺嗎？'}, {'author': 'aliensu (賺P帳號)', 'title': 'Re: [新聞] 慟！詩人余光中病逝 享壽90'}, {'author': 'LeeAnAn (斯文惡男算是如此你也不m)', 'title': 'Re: [新聞] 墾丁大街滷味「一盤920」\\u3000苦主紛紛現身.'}, {'author': 'math520 ( )', 'title': '[新聞] 【有洋葱】部落女孩在福貓遇見幸福'}, {'author': 'gentleman888 ()', 'title': '[問卦] 雞雞軟軟的肥宅葛屁會有多少人關注？☺'}, {'author': 'phosita (phosita)', 'title': 'Re: [新聞] 張忠謀：空汙最大原因 不是電廠而是汽機'}, {'author': 'windscore (這是個真相掛帥的年代...)', 'title': 'Re: [新聞] 青年就業領航媒合率低 林美珠：國人愛升'}, {'author': 'DaiRiT (戴爾特)', 'title': 'Re: [問卦] 現代詩文學到底有什麼意義????'}, {'author': 'irbbb (小來)', 'title': 'Re: [ＦＢ] 吳庚前大法官過世'}, {'author': 'laverne1 (laverne)', 'title': 'Re: [新聞] 人口結構改變 高雄失業率居冠'}, {'author': 'pipatel2008 (心想事成)', 'title': 'Re: [爆卦] 余光中好像過世了'}, {'author': 'dj720c (dj720c)', 'title': 'Re: [新聞] 閃雙黃燈讓車被警拍照\\u3000男發文「TMD沒水'}, {'author': 'Shin722 (Shin)', 'title': '[問卦] 請問這種要叫什麼寶阿?'}, {'author': 'skbshawn (Shawn)', 'title': '[問卦] 白色力量到底有多可怕的八卦'}, {'author': 'phosita (phosita)', 'title': '[問卦] 在台北市洗車順便停車會怎樣？'}, {'author': 'Caress (愛撫)', 'title': '[新聞] 資方盼基本工資凍漲\\u3000林美珠：《最低工'}, {'author': 'ballballer (BooBoo)', 'title': '[問卦] 北護很難考嗎？'}, {'author': 'gentleman888 ()', 'title': '[新聞] 南京大屠殺80周年 台灣只有馬英九發聲'}, {'author': 'elfria (elfria)', 'title': '[新聞] 醫：扁有出國醫療必要 已有國外機構歡迎'}, {'author': 'EbinaHina (海老名姫菜)', 'title': '[新聞] 呂學樟不參加新竹市長初選 不等於不選'}, {'author': 'ptt987654321 (低調)', 'title': 'Re: [新聞] 墾丁大街滷味「一盤920」\\u3000苦主紛紛現身.'}, {'author': 'girl55665566 (女孩56)', 'title': '[ＦＢ] 同志熱線 #爽歪歪之與HIV一同變老'}, {'author': 'OAO5566 (OAO)', 'title': '[新聞] 爭取人才、搶數據！Google宣布成立北京AI'}, {'author': 'fytnship (<(￣︶￣)>)', 'title': '[新聞] 人口結構改變 高雄失業率居冠'}, {'author': 'ap926044 (法號失智)', 'title': '[問卦] 甚麼時候會有余光中出殯嗎?'}, {'author': 'Jefferay (中華民國，千秋萬世)', 'title': 'Re: [新聞] 張忠謀：空汙最大原因 不是電廠而是汽機'}, {'author': 'hyperion5566 (海柏利安5566)', 'title': '[問卦] 蘋果廉價化後還潮嗎？'}, {'author': 'alice137651 (雪花喵喵)', 'title': '[問卦] 路克天行者竟然是小丑！？'}, {'author': 'isaluku (山本君)', 'title': 'Re: [新聞] 青年就業領航媒合率低 林美珠：國人愛升'}, {'author': 'coolbeguy (酷嗶人)', 'title': 'Re: [ＦＢ] 吳庚前大法官過世'}, {'author': 'kilig (早該如此)', 'title': 'Re: [新聞] 青年就業領航媒合率低 林美珠：國人愛升'}, {'author': 'Cassander (Cassander)', 'title': '[新聞] 南韓晶片廠賺大錢 卻沒創造多少就業'}, {'author': 'KOGADOU (大河武)', 'title': '[問卦] 有沒有我是女生的八卦？'}, {'author': 'Lo78 ( *_* )', 'title': '[新聞] 高職生畢旅住飯店 半夜抓狂嘶吼被壓制送'}, {'author': 'siriusc (慟!肥宅老鳥)', 'title': 'Re: [問卦] 現代詩文學到底有什麼意義????'}, {'author': 'KDSKY (貓茶)', 'title': 'Re: [新聞] 超商寄硬碟爛到像被車壓過\\u3000買家傻眼：還'}, {'author': 'truffaut (Bon Vivant)', 'title': '[新聞] 茄萣大廟過年「駙馬宴」 230桌預訂一空 '}, {'author': 'phosita (phosita)', 'title': 'Re: [新聞] 龍膽石斑退燒 嘉縣養殖模範生退場'}, {'author': 'amordelcor (heyheyhey)', 'title': 'Re: [新聞] 罷昌週六投票 黃國昌：國民黨協助運作、'}, {'author': 'musimed (謬及魅德)', 'title': 'Re: [新聞] 墾丁大街滷味「一盤920」\\u3000苦主紛紛現身.'}, {'author': 'ntupeter (ntu dove)', 'title': 'Re: [爆卦] 余光中好像過世了'}, {'author': 'perfidia ()', 'title': '[新聞] 不再是全村最胖！原鄉青年9個月減61公斤'}, {'author': 'KINDDREAMER (單純的孩子)', 'title': '[新聞] 特斯拉太陽能儲電計畫 進駐波多黎各兒童'}, {'author': 'ezJapan (Japan)', 'title': 'Re: [新聞] 被爆賤賣中視讓利4.8億\\u3000馬英九回應了'}, {'author': 'sakaichi (勝哥香雞雞)', 'title': '[問卦] 講話很神秘的人'}, {'author': 'nk11208z (小魯)', 'title': '[新聞] 圍棋女神黑嘉嘉「出國」比賽\\u3000遭中國棋'}, {'author': 'lio226 (肺癆打臉王)', 'title': '[新聞] 遭疑打空污拿台電補助 顏寬恆：兩回事'}, {'author': 'gnemail183 (菊花183)', 'title': '[問卦] 花博到底是三小'}, {'author': 'blackacre (Black/White/Green acre)', 'title': 'Re: [爆卦] 余光中好像過世了'}, {'author': 'computerqqq (高鐵鄉巴佬)', 'title': 'Re: [新聞] 黃國昌若被罷免會更強 他:成為選輸北市'}, {'author': 'rafle (飆了啦)', 'title': 'Re: [新聞] 只能看別人吃...錯過比賽沒披薩 老師竟問'}, {'author': 'yataiml001 (隨心)', 'title': '[問卦] 馬克宏也太帥了吧？'}, {'author': 'ggus (綠燈幸福)', 'title': '[問卦]周伯通才是金庸小說武功最強的吧!??'}, {'author': 'Seles (莎莎)', 'title': '[新聞] 磨刀霍霍 呂秀蓮：《公投法》施行細則公'}, {'author': 'L134 (黃金斑馬)', 'title': '[新聞] 龍膽石斑退燒 嘉縣養殖模範生退場'}, {'author': 'christiano (喀稱)', 'title': 'Re: [新聞] 只能看別人吃...錯過比賽沒披薩 老師竟問'}, {'author': 'purpleisly (鋼多多)', 'title': '[新聞] 行人弱勢？女學生違規過馬路挨撞\\u3000家屬'}, {'author': 'sgzt (sgzt)', 'title': '[新聞] 對台灣民主有信心 黃國昌：罷免案99%不會'}, {'author': 'gnemail183 (菊花183)', 'title': 'Re: [新聞] 墾丁大街滷味「一盤920」\\u3000苦主紛紛現身.'}, {'author': 'king786945 (你看不見我)', 'title': '[新聞] 林美珠缺勞工經驗 陳雄文：沒經驗一樣能'}, {'author': 'cureHAPPY (幹古專用帳號)', 'title': 'Re: [新聞] 慟！詩人余光中今去世 享壽90歲'}, {'author': 'KKmex (麥克斯)', 'title': '[新聞] 未依規定打方向燈\\u3000立院初審通過罰款倍增'}, {'author': 'inbred (★★★★★)', 'title': '[問卦] 現代詩文學到底有什麼意義????'}, {'author': 'Spade2 (黑桃二)', 'title': 'Re: [新聞] 只能看別人吃...錯過比賽沒披薩 老師竟問'}, {'author': 'BHrabal (Es muss sein.)', 'title': 'Re: [爆卦] 余光中好像過世了'}, {'author': 'abc127845 (monkeyGOD)', 'title': '[問卦] “慟”這個詞什麼時候紅起來的啊？？'}, {'author': 'XDDDDDDXDDDD (ㄚㄚㄚㄚㄚㄚㄚㄚㄚ)', 'title': '[新聞] 37年最佳！《星際大戰8》被狂讚：星戰版p'}, {'author': 'catwalk456 (巴黎草莓)', 'title': 'Re: [新聞] 龍膽石斑退燒 嘉縣養殖模範生退場'}, {'author': 'liveforhappy (水戶洋平)', 'title': '[問卦] 想要靠自己寫app賺大錢很難嗎'}, {'author': 'padpadl12 (帕帕12)', 'title': '[問卦]適合吃完麻辣鍋後喝的冷飲？'}, {'author': 'Lo78 ( *_* )', 'title': '[問卦] 武藤遊戲的排組為什麼那麼強'}]\n"
     ]
    }
   ],
   "source": [
    "fetchlist = [fetchPost(link) for link in pages(12)]\n",
    "print(fetchlist)"
   ]
  },
  {
   "cell_type": "code",
   "execution_count": null,
   "metadata": {
    "collapsed": true
   },
   "outputs": [],
   "source": []
  }
 ],
 "metadata": {
  "kernelspec": {
   "display_name": "Python 3",
   "language": "python",
   "name": "python3"
  },
  "language_info": {
   "codemirror_mode": {
    "name": "ipython",
    "version": 3
   },
   "file_extension": ".py",
   "mimetype": "text/x-python",
   "name": "python",
   "nbconvert_exporter": "python",
   "pygments_lexer": "ipython3",
   "version": "3.5.2"
  }
 },
 "nbformat": 4,
 "nbformat_minor": 2
}
