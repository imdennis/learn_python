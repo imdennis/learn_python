{
 "cells": [
  {
   "cell_type": "code",
   "execution_count": 20,
   "metadata": {},
   "outputs": [
    {
     "name": "stdout",
     "output_type": "stream",
     "text": [
      "['/bbs/Gossiping/M.1513837870.A.4EA.html', '/bbs/Gossiping/M.1513837890.A.754.html', '/bbs/Gossiping/M.1513837905.A.F7A.html', '/bbs/Gossiping/M.1513837933.A.72D.html', '/bbs/Gossiping/M.1513838019.A.158.html', '/bbs/Gossiping/M.1513838071.A.13F.html', '/bbs/Gossiping/M.1513838093.A.135.html', '/bbs/Gossiping/M.1513838094.A.658.html', '/bbs/Gossiping/M.1513838099.A.155.html', '/bbs/Gossiping/M.1513838102.A.03B.html', '/bbs/Gossiping/M.1513838103.A.163.html', '/bbs/Gossiping/M.1513838115.A.18D.html', '/bbs/Gossiping/M.1513838132.A.6FE.html', '/bbs/Gossiping/M.1513838204.A.9FA.html', '/bbs/Gossiping/M.1513838240.A.AC2.html', '/bbs/Gossiping/M.1513838323.A.0B2.html', '/bbs/Gossiping/M.1513838324.A.C3B.html', '/bbs/Gossiping/M.1510415718.A.D77.html', '/bbs/Gossiping/M.1512882583.A.B4E.html', '/bbs/Gossiping/M.1513426094.A.927.html', '/bbs/Gossiping/M.1513683634.A.2F5.html', '/bbs/Gossiping/M.1512057611.A.16B.html']\n"
     ]
    }
   ],
   "source": [
    "import requests\n",
    "from bs4 import BeautifulSoup\n",
    "session = requests.Session()\n",
    "header = {'User-Agent': \"Mozilla/5.0 (Macintosh; Intel Mac OS X 10_12_4) AppleWebKit/603.1.30 (KHTML, like Gecko) Version/10.1 Safari/603.1.30\"}\n",
    "cookie = {'over18':'1'}\n",
    "html = session.get(\"https://www.ptt.cc/bbs/Gossiping/index.html\", headers=header, cookies=cookie).text\n",
    "bsobj = BeautifulSoup(html, \"lxml\")\n",
    "titles = bsobj.findAll(\"div\", {\"class\": \"title\"})\n",
    "linklist = []\n",
    "for title in titles:\n",
    "    try:\n",
    "        linklist.append(title.a.attrs[\"href\"])\n",
    "    except:\n",
    "        continue\n",
    "print(linklist)"
   ]
  },
  {
   "cell_type": "code",
   "execution_count": 37,
   "metadata": {
    "collapsed": true
   },
   "outputs": [],
   "source": [
    "class PttCrawler:\n",
    "    \n",
    "    def __init__(self, board, page, write=False):\n",
    "        self.ptt_url = 'https://www.ptt.cc'\n",
    "        self.board = board\n",
    "        self.page = page\n",
    "        \n",
    "        self.session = requests.Session()\n",
    "        self.session.cookies.update({\n",
    "            'over18': '1'\n",
    "        })\n",
    "        \n",
    "        self.write = write\n",
    "    \n",
    "    def run(self):\n",
    "        url = self.ptt_url + '/bbs' + self.board\n",
    "        post_list = self.fetchPostLinkList(url)\n",
    "        #post_list = [self.fetchPostLinkList(post_link) for post_link in post_link_list]\n",
    "        if self.write:\n",
    "            result_dir = os.path.join('ptt_crawler/', str(uuid4()))\n",
    "            os.makedirs(result_dir, exist_ok=True)\n",
    "            \n",
    "            for post in post_list:\n",
    "                with open(os.path.join(result_dir, post['id']), 'w') as f:\n",
    "                    f.write(json.dumps(post, indent=4))\n",
    "        return post_list\n",
    "    \n",
    "    def post_list(self, bsobj):\n",
    "        titles = bsobj.findAll(\"div\", {\"class\": \"title\"})\n",
    "        linklist = []\n",
    "        for title in titles:\n",
    "            try:\n",
    "                linklist.append(title.a.attrs[\"href\"])\n",
    "            except:\n",
    "                continue\n",
    "        return linklist\n",
    "    \n",
    "    def pages(self, x, bsobj):\n",
    "        url = \"https://www.ptt.cc/bbs/Gossiping/index.html\"\n",
    "        result_linklist= []\n",
    "        for i in range(x):\n",
    "            html = session.get(url, headers=header, cookies={'over18':'1'}).text\n",
    "            bsobj = BeautifulSoup(html, \"lxml\")\n",
    "        \n",
    "            prev = bsobj.findAll(\"a\", {\"class\":\"btn wide\"})[1]\n",
    "            url = \"https://www.ptt.cc/\" + prev.attrs[\"href\"]\n",
    "            result_linklist.extend(self.post_list(bsobj))\n",
    "        return result_linklist \n",
    "    \n",
    "    def fetchPostLinkList(self, url):\n",
    "        if not url.startswith('http'):\n",
    "            url = self.ptt_url + url\n",
    "        resp = self.session.get(\n",
    "            url\n",
    "        )\n",
    "        bsobj = BeautifulSoup(resp.text.encode(\"utf-8\"), \"lxml\")\n",
    "        return self.pages(self.page, bsobj)"
   ]
  },
  {
   "cell_type": "code",
   "execution_count": 41,
   "metadata": {},
   "outputs": [
    {
     "data": {
      "text/plain": [
       "['/bbs/Gossiping/M.1513838562.A.72B.html',\n",
       " '/bbs/Gossiping/M.1513838613.A.4BA.html',\n",
       " '/bbs/Gossiping/M.1513838619.A.3B7.html',\n",
       " '/bbs/Gossiping/M.1513838629.A.246.html',\n",
       " '/bbs/Gossiping/M.1513838645.A.961.html',\n",
       " '/bbs/Gossiping/M.1513838665.A.ACB.html',\n",
       " '/bbs/Gossiping/M.1513838820.A.EA1.html',\n",
       " '/bbs/Gossiping/M.1513838823.A.E3E.html',\n",
       " '/bbs/Gossiping/M.1513838842.A.ECA.html',\n",
       " '/bbs/Gossiping/M.1513838858.A.789.html',\n",
       " '/bbs/Gossiping/M.1513838864.A.D8A.html',\n",
       " '/bbs/Gossiping/M.1513838873.A.195.html',\n",
       " '/bbs/Gossiping/M.1513838902.A.088.html',\n",
       " '/bbs/Gossiping/M.1513838912.A.615.html',\n",
       " '/bbs/Gossiping/M.1513838987.A.48F.html',\n",
       " '/bbs/Gossiping/M.1513838992.A.02F.html',\n",
       " '/bbs/Gossiping/M.1513839004.A.280.html',\n",
       " '/bbs/Gossiping/M.1513839004.A.981.html',\n",
       " '/bbs/Gossiping/M.1513839055.A.D54.html',\n",
       " '/bbs/Gossiping/M.1513839091.A.358.html',\n",
       " '/bbs/Gossiping/M.1510415718.A.D77.html',\n",
       " '/bbs/Gossiping/M.1512882583.A.B4E.html',\n",
       " '/bbs/Gossiping/M.1513426094.A.927.html',\n",
       " '/bbs/Gossiping/M.1513683634.A.2F5.html',\n",
       " '/bbs/Gossiping/M.1512057611.A.16B.html']"
      ]
     },
     "execution_count": 41,
     "metadata": {},
     "output_type": "execute_result"
    }
   ],
   "source": [
    "pttBot = PttCrawler(\"/Gossiping/\", 1)\n",
    "pttBot.run()"
   ]
  },
  {
   "cell_type": "code",
   "execution_count": null,
   "metadata": {
    "collapsed": true
   },
   "outputs": [],
   "source": []
  }
 ],
 "metadata": {
  "kernelspec": {
   "display_name": "Python 3",
   "language": "python",
   "name": "python3"
  },
  "language_info": {
   "codemirror_mode": {
    "name": "ipython",
    "version": 3
   },
   "file_extension": ".py",
   "mimetype": "text/x-python",
   "name": "python",
   "nbconvert_exporter": "python",
   "pygments_lexer": "ipython3",
   "version": "3.5.2"
  }
 },
 "nbformat": 4,
 "nbformat_minor": 2
}
