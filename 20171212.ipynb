{
 "cells": [
  {
   "cell_type": "code",
   "execution_count": 1,
   "metadata": {},
   "outputs": [
    {
     "name": "stdout",
     "output_type": "stream",
     "text": [
      "Requirement already up-to-date: beautifulsoup4 in /Users/Dennis/anaconda/lib/python3.5/site-packages\n",
      "Collecting lxml\n",
      "  Downloading lxml-4.1.1-cp35-cp35m-macosx_10_6_intel.macosx_10_9_intel.macosx_10_9_x86_64.macosx_10_10_intel.macosx_10_10_x86_64.whl (8.7MB)\n",
      "\u001b[K    100% |████████████████████████████████| 8.7MB 61kB/s eta 0:00:011\n",
      "\u001b[?25hCollecting html5lib==1.0b8\n",
      "  Downloading html5lib-1.0b8.tar.gz (889kB)\n",
      "\u001b[K    100% |████████████████████████████████| 890kB 578kB/s ta 0:00:011\n",
      "\u001b[?25hCollecting six (from html5lib==1.0b8)\n",
      "  Downloading six-1.11.0-py2.py3-none-any.whl\n",
      "Building wheels for collected packages: html5lib\n",
      "  Running setup.py bdist_wheel for html5lib ... \u001b[?25ldone\n",
      "\u001b[?25h  Stored in directory: /Users/Dennis/Library/Caches/pip/wheels/d4/d1/0b/a6b6f9f204af55c9bb8c97eae2a78b690b7150a7b850bb9403\n",
      "Successfully built html5lib\n",
      "Installing collected packages: lxml, six, html5lib\n",
      "Successfully installed html5lib-1.0b8 lxml-4.1.1 six-1.11.0\n"
     ]
    }
   ],
   "source": [
    "!pip install --user --upgrade beautifulsoup4 lxml html5lib==1.0b8"
   ]
  },
  {
   "cell_type": "code",
   "execution_count": 16,
   "metadata": {},
   "outputs": [
    {
     "name": "stdout",
     "output_type": "stream",
     "text": [
      "linklist ['/bbs/Gossiping/M.1513067170.A.32C.html', '/bbs/Gossiping/M.1513067175.A.126.html', '/bbs/Gossiping/M.1513067181.A.965.html', '/bbs/Gossiping/M.1513067251.A.191.html', '/bbs/Gossiping/M.1513067254.A.2C1.html', '/bbs/Gossiping/M.1513067273.A.183.html', '/bbs/Gossiping/M.1513067320.A.633.html', '/bbs/Gossiping/M.1513067333.A.8FA.html', '/bbs/Gossiping/M.1513067407.A.BBF.html', '/bbs/Gossiping/M.1513067452.A.495.html', '/bbs/Gossiping/M.1513067528.A.4A7.html', '/bbs/Gossiping/M.1513067545.A.D41.html', '/bbs/Gossiping/M.1513067548.A.7C1.html', '/bbs/Gossiping/M.1513067647.A.550.html', '/bbs/Gossiping/M.1513067668.A.37B.html', '/bbs/Gossiping/M.1510415718.A.D77.html', '/bbs/Gossiping/M.1512579843.A.623.html', '/bbs/Gossiping/M.1512882583.A.B4E.html', '/bbs/Gossiping/M.1512890876.A.79A.html', '/bbs/Gossiping/M.1512057611.A.16B.html']\n"
     ]
    }
   ],
   "source": [
    "import requests\n",
    "from bs4 import BeautifulSoup\n",
    "session = requests.Session()\n",
    "header = {'User-Agent':\"Mozilla/5.0 (Macintosh; Intel Mac OS X 10_12_4) AppleWebKit/603.1.30 (KHTML, like Gecko) Version/10.1 Safari/603.1.30\"}\n",
    "cookie = {'over18':'1'}\n",
    "html = session.get(\"https://www.ptt.cc/bbs/Gossiping/index.html\",\n",
    "                  headers = header,\n",
    "                  cookies = cookie).text\n",
    "bsObj = BeautifulSoup(html, \"lxml\")\n",
    "titles = bsObj.findAll('div', {\"class\":\"title\"})\n",
    "linklist = [title.a.attrs[\"href\"] for title in titles]\n",
    "print('linklist', linklist)"
   ]
  },
  {
   "cell_type": "code",
   "execution_count": 14,
   "metadata": {},
   "outputs": [],
   "source": [
    "def fetchPost(url):\n",
    "    html = session.get(\"https://www.ptt.cc/\" + url,\n",
    "                      headers = header,\n",
    "                      cookies = cookie).text\n",
    "    bsObj = BeautifulSoup(html, \"lxml\");\n",
    "    head = bsObj.findAll(\"span\", {\"class\":\"article-meta-value\"})\n",
    "    try:\n",
    "        author = head[0].text\n",
    "    except:\n",
    "        author = None;\n",
    "        \n",
    "    try:\n",
    "        title = head[2].text\n",
    "    except:\n",
    "        title = None;\n",
    "        \n",
    "    return {\"author\":author, \"title\":title}"
   ]
  },
  {
   "cell_type": "code",
   "execution_count": 8,
   "metadata": {},
   "outputs": [
    {
     "name": "stdout",
     "output_type": "stream",
     "text": [
      "[{'title': '[問卦] 地獄廚神、黑暗料理界、食神都幾？', 'author': 'wanz1995 (丸子)'}, {'title': 'Re: [問卦] DSLR板跟耳機板，哪個凱子比較多？', 'author': 'ununnihao (安安你好)'}, {'title': '[爆卦] 別被騙啊鑽石收店便宜賣', 'author': 'pettey (泡茶小弟)'}, {'title': 'Re: [新聞] 才關新營店…金石堂年底再收台北2店', 'author': 'zy116pj (黃金先走汁)'}, {'title': 'Re: [新聞] 藍委詢問「蔣介石3大貢獻」\\u3000鄭麗君冷回', 'author': 'fred76963 (ㄤ)'}, {'title': 'Re: [問卦] 肥宅伏地挺身都做幾下', 'author': 'Daedolon (Daedolon)'}, {'title': '[新聞] 送哥哥出殯火化\\u3000停紅燈「神主牌掉了」…', 'author': 'chivalry70 (火鍋)'}, {'title': '[問卦] 找澎湖人當乾爹會怎麼樣？', 'author': 'ComeClose (你可以靠近一點)'}, {'title': '[問卦] 十年之前我不認識妳妳不屬於我', 'author': 'LOVEEE5566 (台中劉時鎮)'}, {'title': '[新聞] 徐國勇：空污源明顯來自中國\\u3000勿怪台中火', 'author': 'tmacor1 (賣冰淇淋的車子)'}, {'title': '[問卦] 為了不想用win10轉去買macbook會很蠢嗎?', 'author': 'BigEast (大東)'}, {'title': 'Re: [新聞] 各種傳簽點名單的方式\\u3000他精闢圖解 網友', 'author': 'lolic (lolic)'}, {'title': 'Re: [問卦] 蔣經國  有這麼讓人痛恨嗎？？？', 'author': 'gmooshan ()'}, {'title': '[問卦] 所以遇到喜歡的女孩子到底要怎麼追', 'author': 'ilovemami (噁爛肥宅好搗亂癱瘓交通 )'}, {'title': '[問卦] 有沒有台灣本身就是被霸凌？', 'author': 'jetling ()'}, {'title': 'Re: [問卦] DSLR板跟耳機板，哪個凱子比較多？', 'author': 'ddxpoosan (奧瑪)'}, {'title': 'Re: [新聞]酒駕慣犯撞死爸爸 國小兒怒：我要他被判死', 'author': 'yha (春天來了)'}, {'title': 'Re: [問卦] 簡任官到底有多威???', 'author': 'tracyyen ()'}, {'title': '[新聞] 遛狗男扮老闆\\u3000謊稱換零錢行騙店家 ', 'author': 'zueilan (罪過)'}, {'title': '[公告] 八卦板板規(2017.11.11)', 'author': 'Kay731 (K少)'}, {'title': '[協尋]12/4早上中壢環中東路車禍目擊 ', 'author': 'lcyrose (榴槤飄飄)'}, {'title': '12/09 台南三媽臭臭鍋前車禍目擊', 'author': 'vivismile (薇薇一笑)'}, {'title': 'Fw: [尋人] 請幫忙協尋失蹤親戚，謝謝 ', 'author': 'fobdo (小迷)'}, {'title': None, 'author': None}]\n"
     ]
    }
   ],
   "source": [
    "fetchlist = [fetchPost(link) for link in linklist]\n",
    "print(fetchlist)"
   ]
  },
  {
   "cell_type": "code",
   "execution_count": null,
   "metadata": {
    "collapsed": true
   },
   "outputs": [],
   "source": [
    "def fetchPost2:\n",
    "    html = session.get(\"https://www.ptt.cc/bbs/Gossiping/index.html\",\n",
    "                      headers = header,\n",
    "                      cookies = cookie).text\n",
    "    bsObj = BeautifulSoup(html, \"lxml\");\n",
    "    titles = bsObj.findAll(\"div\", {\"class\":\"title\"})\n",
    "    authors = bsObj.findAll(\"div\", {\"class\":\"author\"})\n",
    "    title_list = [title.text for title in titles]\n",
    "    athor_list = [author.text for author in authors]\n",
    "    \n",
    "    for\n",
    "        \n",
    "    return {\"author\":author, \"title\":title}"
   ]
  }
 ],
 "metadata": {
  "kernelspec": {
   "display_name": "Python 3",
   "language": "python",
   "name": "python3"
  },
  "language_info": {
   "codemirror_mode": {
    "name": "ipython",
    "version": 3
   },
   "file_extension": ".py",
   "mimetype": "text/x-python",
   "name": "python",
   "nbconvert_exporter": "python",
   "pygments_lexer": "ipython3",
   "version": "3.5.3"
  }
 },
 "nbformat": 4,
 "nbformat_minor": 2
}
